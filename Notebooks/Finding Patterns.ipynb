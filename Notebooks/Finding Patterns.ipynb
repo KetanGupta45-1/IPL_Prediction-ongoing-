{
 "cells": [
  {
   "cell_type": "code",
   "execution_count": 2,
   "metadata": {},
   "outputs": [],
   "source": [
    "import pandas as pd\n"
   ]
  },
  {
   "cell_type": "code",
   "execution_count": 3,
   "metadata": {},
   "outputs": [
    {
     "name": "stderr",
     "output_type": "stream",
     "text": [
      "C:\\Users\\ketan\\AppData\\Local\\Temp\\ipykernel_11204\\1054826397.py:1: DtypeWarning: Columns (4) have mixed types. Specify dtype option on import or set low_memory=False.\n",
      "  df = pd.read_csv(\"F:/Machine and Deep Learning/IPL/cricsheet/Datasets/updation1(23-24).csv\")\n"
     ]
    },
    {
     "data": {
      "application/vnd.microsoft.datawrangler.viewer.v0+json": {
       "columns": [
        {
         "name": "index",
         "rawType": "int64",
         "type": "integer"
        },
        {
         "name": "Unnamed: 0",
         "rawType": "int64",
         "type": "integer"
        },
        {
         "name": "ID",
         "rawType": "int64",
         "type": "integer"
        },
        {
         "name": "Venue",
         "rawType": "object",
         "type": "string"
        },
        {
         "name": "Date",
         "rawType": "object",
         "type": "string"
        },
        {
         "name": "Match No.",
         "rawType": "object",
         "type": "string"
        },
        {
         "name": "Innings",
         "rawType": "object",
         "type": "string"
        },
        {
         "name": "Over",
         "rawType": "float64",
         "type": "float"
        },
        {
         "name": "Striker",
         "rawType": "object",
         "type": "string"
        },
        {
         "name": "Non Striker",
         "rawType": "object",
         "type": "string"
        },
        {
         "name": "Bowler",
         "rawType": "object",
         "type": "string"
        },
        {
         "name": "Batter Runs",
         "rawType": "int64",
         "type": "integer"
        },
        {
         "name": "Extras",
         "rawType": "int64",
         "type": "integer"
        },
        {
         "name": "Cumulative Runs",
         "rawType": "int64",
         "type": "integer"
        },
        {
         "name": "Runs by Batsman",
         "rawType": "int64",
         "type": "integer"
        },
        {
         "name": "Bowling Style",
         "rawType": "object",
         "type": "string"
        },
        {
         "name": "Bowler_ID",
         "rawType": "int64",
         "type": "integer"
        },
        {
         "name": "Venue_ID",
         "rawType": "int64",
         "type": "integer"
        },
        {
         "name": "Striker_ID",
         "rawType": "int64",
         "type": "integer"
        },
        {
         "name": "Innings_ID",
         "rawType": "int64",
         "type": "integer"
        },
        {
         "name": "Bowl_style_ID",
         "rawType": "int64",
         "type": "integer"
        },
        {
         "name": "Over_Number",
         "rawType": "int64",
         "type": "integer"
        },
        {
         "name": "Ball_Number",
         "rawType": "int64",
         "type": "integer"
        },
        {
         "name": "Rolling_Avg_Runs",
         "rawType": "float64",
         "type": "float"
        },
        {
         "name": "Batsman_Bowler_Combo",
         "rawType": "int64",
         "type": "integer"
        },
        {
         "name": "Strike_Rate",
         "rawType": "float64",
         "type": "float"
        }
       ],
       "conversionMethod": "pd.DataFrame",
       "ref": "c6a3d7c5-53f8-4e72-87c8-04c977a5e9c6",
       "rows": [
        [
         "0",
         "0",
         "124255",
         "MA Chidambaram Stadium, Chepauk, Chennai",
         "5/26/2024",
         "Unknown Match",
         "Kolkata Knight Riders",
         "0.1",
         "Rahmanullah Gurbaz",
         "SP Narine",
         "B Kumar",
         "0",
         "0",
         "0",
         "0",
         "Right-arm medium",
         "23",
         "7",
         "177",
         "3",
         "11",
         "0",
         "1",
         "0.0",
         "2087",
         "1.1"
        ],
        [
         "1",
         "1",
         "124256",
         "MA Chidambaram Stadium, Chepauk, Chennai",
         "5/26/2024",
         "Unknown Match",
         "Kolkata Knight Riders",
         "0.2",
         "Rahmanullah Gurbaz",
         "SP Narine",
         "B Kumar",
         "4",
         "0",
         "4",
         "4",
         "Right-arm medium",
         "23",
         "7",
         "177",
         "3",
         "11",
         "0",
         "2",
         "2.0",
         "2087",
         "1.1"
        ],
        [
         "2",
         "2",
         "124257",
         "MA Chidambaram Stadium, Chepauk, Chennai",
         "5/26/2024",
         "Unknown Match",
         "Kolkata Knight Riders",
         "0.3",
         "Rahmanullah Gurbaz",
         "SP Narine",
         "B Kumar",
         "0",
         "0",
         "4",
         "0",
         "Right-arm medium",
         "23",
         "7",
         "177",
         "3",
         "11",
         "0",
         "3",
         "1.3333333333333333",
         "2087",
         "1.1"
        ],
        [
         "3",
         "3",
         "124258",
         "MA Chidambaram Stadium, Chepauk, Chennai",
         "5/26/2024",
         "Unknown Match",
         "Kolkata Knight Riders",
         "0.4",
         "Rahmanullah Gurbaz",
         "SP Narine",
         "B Kumar",
         "0",
         "1",
         "5",
         "0",
         "Right-arm medium",
         "23",
         "7",
         "177",
         "3",
         "11",
         "0",
         "4",
         "1.0",
         "2087",
         "1.1"
        ],
        [
         "4",
         "4",
         "124259",
         "MA Chidambaram Stadium, Chepauk, Chennai",
         "5/26/2024",
         "Unknown Match",
         "Kolkata Knight Riders",
         "0.5",
         "Rahmanullah Gurbaz",
         "SP Narine",
         "B Kumar",
         "0",
         "0",
         "5",
         "0",
         "Right-arm medium",
         "23",
         "7",
         "177",
         "3",
         "11",
         "0",
         "5",
         "0.8",
         "2087",
         "1.1"
        ]
       ],
       "shape": {
        "columns": 25,
        "rows": 5
       }
      },
      "text/html": [
       "<div>\n",
       "<style scoped>\n",
       "    .dataframe tbody tr th:only-of-type {\n",
       "        vertical-align: middle;\n",
       "    }\n",
       "\n",
       "    .dataframe tbody tr th {\n",
       "        vertical-align: top;\n",
       "    }\n",
       "\n",
       "    .dataframe thead th {\n",
       "        text-align: right;\n",
       "    }\n",
       "</style>\n",
       "<table border=\"1\" class=\"dataframe\">\n",
       "  <thead>\n",
       "    <tr style=\"text-align: right;\">\n",
       "      <th></th>\n",
       "      <th>Unnamed: 0</th>\n",
       "      <th>ID</th>\n",
       "      <th>Venue</th>\n",
       "      <th>Date</th>\n",
       "      <th>Match No.</th>\n",
       "      <th>Innings</th>\n",
       "      <th>Over</th>\n",
       "      <th>Striker</th>\n",
       "      <th>Non Striker</th>\n",
       "      <th>Bowler</th>\n",
       "      <th>...</th>\n",
       "      <th>Bowler_ID</th>\n",
       "      <th>Venue_ID</th>\n",
       "      <th>Striker_ID</th>\n",
       "      <th>Innings_ID</th>\n",
       "      <th>Bowl_style_ID</th>\n",
       "      <th>Over_Number</th>\n",
       "      <th>Ball_Number</th>\n",
       "      <th>Rolling_Avg_Runs</th>\n",
       "      <th>Batsman_Bowler_Combo</th>\n",
       "      <th>Strike_Rate</th>\n",
       "    </tr>\n",
       "  </thead>\n",
       "  <tbody>\n",
       "    <tr>\n",
       "      <th>0</th>\n",
       "      <td>0</td>\n",
       "      <td>124255</td>\n",
       "      <td>MA Chidambaram Stadium, Chepauk, Chennai</td>\n",
       "      <td>5/26/2024</td>\n",
       "      <td>Unknown Match</td>\n",
       "      <td>Kolkata Knight Riders</td>\n",
       "      <td>0.1</td>\n",
       "      <td>Rahmanullah Gurbaz</td>\n",
       "      <td>SP Narine</td>\n",
       "      <td>B Kumar</td>\n",
       "      <td>...</td>\n",
       "      <td>23</td>\n",
       "      <td>7</td>\n",
       "      <td>177</td>\n",
       "      <td>3</td>\n",
       "      <td>11</td>\n",
       "      <td>0</td>\n",
       "      <td>1</td>\n",
       "      <td>0.000000</td>\n",
       "      <td>2087</td>\n",
       "      <td>1.1</td>\n",
       "    </tr>\n",
       "    <tr>\n",
       "      <th>1</th>\n",
       "      <td>1</td>\n",
       "      <td>124256</td>\n",
       "      <td>MA Chidambaram Stadium, Chepauk, Chennai</td>\n",
       "      <td>5/26/2024</td>\n",
       "      <td>Unknown Match</td>\n",
       "      <td>Kolkata Knight Riders</td>\n",
       "      <td>0.2</td>\n",
       "      <td>Rahmanullah Gurbaz</td>\n",
       "      <td>SP Narine</td>\n",
       "      <td>B Kumar</td>\n",
       "      <td>...</td>\n",
       "      <td>23</td>\n",
       "      <td>7</td>\n",
       "      <td>177</td>\n",
       "      <td>3</td>\n",
       "      <td>11</td>\n",
       "      <td>0</td>\n",
       "      <td>2</td>\n",
       "      <td>2.000000</td>\n",
       "      <td>2087</td>\n",
       "      <td>1.1</td>\n",
       "    </tr>\n",
       "    <tr>\n",
       "      <th>2</th>\n",
       "      <td>2</td>\n",
       "      <td>124257</td>\n",
       "      <td>MA Chidambaram Stadium, Chepauk, Chennai</td>\n",
       "      <td>5/26/2024</td>\n",
       "      <td>Unknown Match</td>\n",
       "      <td>Kolkata Knight Riders</td>\n",
       "      <td>0.3</td>\n",
       "      <td>Rahmanullah Gurbaz</td>\n",
       "      <td>SP Narine</td>\n",
       "      <td>B Kumar</td>\n",
       "      <td>...</td>\n",
       "      <td>23</td>\n",
       "      <td>7</td>\n",
       "      <td>177</td>\n",
       "      <td>3</td>\n",
       "      <td>11</td>\n",
       "      <td>0</td>\n",
       "      <td>3</td>\n",
       "      <td>1.333333</td>\n",
       "      <td>2087</td>\n",
       "      <td>1.1</td>\n",
       "    </tr>\n",
       "    <tr>\n",
       "      <th>3</th>\n",
       "      <td>3</td>\n",
       "      <td>124258</td>\n",
       "      <td>MA Chidambaram Stadium, Chepauk, Chennai</td>\n",
       "      <td>5/26/2024</td>\n",
       "      <td>Unknown Match</td>\n",
       "      <td>Kolkata Knight Riders</td>\n",
       "      <td>0.4</td>\n",
       "      <td>Rahmanullah Gurbaz</td>\n",
       "      <td>SP Narine</td>\n",
       "      <td>B Kumar</td>\n",
       "      <td>...</td>\n",
       "      <td>23</td>\n",
       "      <td>7</td>\n",
       "      <td>177</td>\n",
       "      <td>3</td>\n",
       "      <td>11</td>\n",
       "      <td>0</td>\n",
       "      <td>4</td>\n",
       "      <td>1.000000</td>\n",
       "      <td>2087</td>\n",
       "      <td>1.1</td>\n",
       "    </tr>\n",
       "    <tr>\n",
       "      <th>4</th>\n",
       "      <td>4</td>\n",
       "      <td>124259</td>\n",
       "      <td>MA Chidambaram Stadium, Chepauk, Chennai</td>\n",
       "      <td>5/26/2024</td>\n",
       "      <td>Unknown Match</td>\n",
       "      <td>Kolkata Knight Riders</td>\n",
       "      <td>0.5</td>\n",
       "      <td>Rahmanullah Gurbaz</td>\n",
       "      <td>SP Narine</td>\n",
       "      <td>B Kumar</td>\n",
       "      <td>...</td>\n",
       "      <td>23</td>\n",
       "      <td>7</td>\n",
       "      <td>177</td>\n",
       "      <td>3</td>\n",
       "      <td>11</td>\n",
       "      <td>0</td>\n",
       "      <td>5</td>\n",
       "      <td>0.800000</td>\n",
       "      <td>2087</td>\n",
       "      <td>1.1</td>\n",
       "    </tr>\n",
       "  </tbody>\n",
       "</table>\n",
       "<p>5 rows × 25 columns</p>\n",
       "</div>"
      ],
      "text/plain": [
       "   Unnamed: 0      ID                                     Venue       Date  \\\n",
       "0           0  124255  MA Chidambaram Stadium, Chepauk, Chennai  5/26/2024   \n",
       "1           1  124256  MA Chidambaram Stadium, Chepauk, Chennai  5/26/2024   \n",
       "2           2  124257  MA Chidambaram Stadium, Chepauk, Chennai  5/26/2024   \n",
       "3           3  124258  MA Chidambaram Stadium, Chepauk, Chennai  5/26/2024   \n",
       "4           4  124259  MA Chidambaram Stadium, Chepauk, Chennai  5/26/2024   \n",
       "\n",
       "       Match No.                Innings  Over             Striker Non Striker  \\\n",
       "0  Unknown Match  Kolkata Knight Riders   0.1  Rahmanullah Gurbaz   SP Narine   \n",
       "1  Unknown Match  Kolkata Knight Riders   0.2  Rahmanullah Gurbaz   SP Narine   \n",
       "2  Unknown Match  Kolkata Knight Riders   0.3  Rahmanullah Gurbaz   SP Narine   \n",
       "3  Unknown Match  Kolkata Knight Riders   0.4  Rahmanullah Gurbaz   SP Narine   \n",
       "4  Unknown Match  Kolkata Knight Riders   0.5  Rahmanullah Gurbaz   SP Narine   \n",
       "\n",
       "    Bowler  ...  Bowler_ID  Venue_ID  Striker_ID  Innings_ID Bowl_style_ID  \\\n",
       "0  B Kumar  ...         23         7         177           3            11   \n",
       "1  B Kumar  ...         23         7         177           3            11   \n",
       "2  B Kumar  ...         23         7         177           3            11   \n",
       "3  B Kumar  ...         23         7         177           3            11   \n",
       "4  B Kumar  ...         23         7         177           3            11   \n",
       "\n",
       "   Over_Number  Ball_Number  Rolling_Avg_Runs  Batsman_Bowler_Combo  \\\n",
       "0            0            1          0.000000                  2087   \n",
       "1            0            2          2.000000                  2087   \n",
       "2            0            3          1.333333                  2087   \n",
       "3            0            4          1.000000                  2087   \n",
       "4            0            5          0.800000                  2087   \n",
       "\n",
       "   Strike_Rate  \n",
       "0          1.1  \n",
       "1          1.1  \n",
       "2          1.1  \n",
       "3          1.1  \n",
       "4          1.1  \n",
       "\n",
       "[5 rows x 25 columns]"
      ]
     },
     "execution_count": 3,
     "metadata": {},
     "output_type": "execute_result"
    }
   ],
   "source": [
    "df = pd.read_csv(\"F:/Machine and Deep Learning/IPL/cricsheet/Datasets/updation1(23-24).csv\")\n",
    "df.head()"
   ]
  },
  {
   "cell_type": "code",
   "execution_count": 4,
   "metadata": {},
   "outputs": [
    {
     "name": "stdout",
     "output_type": "stream",
     "text": [
      "<class 'pandas.core.frame.DataFrame'>\n",
      "RangeIndex: 34966 entries, 0 to 34965\n",
      "Data columns (total 25 columns):\n",
      " #   Column                Non-Null Count  Dtype  \n",
      "---  ------                --------------  -----  \n",
      " 0   Unnamed: 0            34966 non-null  int64  \n",
      " 1   ID                    34966 non-null  int64  \n",
      " 2   Venue                 34966 non-null  object \n",
      " 3   Date                  34966 non-null  object \n",
      " 4   Match No.             34966 non-null  object \n",
      " 5   Innings               34966 non-null  object \n",
      " 6   Over                  34966 non-null  float64\n",
      " 7   Striker               34966 non-null  object \n",
      " 8   Non Striker           34966 non-null  object \n",
      " 9   Bowler                34966 non-null  object \n",
      " 10  Batter Runs           34966 non-null  int64  \n",
      " 11  Extras                34966 non-null  int64  \n",
      " 12  Cumulative Runs       34966 non-null  int64  \n",
      " 13  Runs by Batsman       34966 non-null  int64  \n",
      " 14  Bowling Style         34966 non-null  object \n",
      " 15  Bowler_ID             34966 non-null  int64  \n",
      " 16  Venue_ID              34966 non-null  int64  \n",
      " 17  Striker_ID            34966 non-null  int64  \n",
      " 18  Innings_ID            34966 non-null  int64  \n",
      " 19  Bowl_style_ID         34966 non-null  int64  \n",
      " 20  Over_Number           34966 non-null  int64  \n",
      " 21  Ball_Number           34966 non-null  int64  \n",
      " 22  Rolling_Avg_Runs      34966 non-null  float64\n",
      " 23  Batsman_Bowler_Combo  34966 non-null  int64  \n",
      " 24  Strike_Rate           34966 non-null  float64\n",
      "dtypes: float64(3), int64(14), object(8)\n",
      "memory usage: 6.7+ MB\n"
     ]
    }
   ],
   "source": [
    "df.info()"
   ]
  },
  {
   "cell_type": "code",
   "execution_count": 13,
   "metadata": {},
   "outputs": [],
   "source": [
    "col_int = []\n",
    "\n",
    "for col in df.columns:\n",
    "    if df[col].dtype == 'int64' or df[col].dtype == 'float64':\n",
    "        col_int.append(col)"
   ]
  },
  {
   "cell_type": "code",
   "execution_count": 14,
   "metadata": {},
   "outputs": [
    {
     "name": "stdout",
     "output_type": "stream",
     "text": [
      "['Unnamed: 0', 'ID', 'Over', 'Batter Runs', 'Extras', 'Cumulative Runs', 'Runs by Batsman', 'Bowler_ID', 'Venue_ID', 'Striker_ID', 'Innings_ID', 'Bowl_style_ID', 'Over_Number', 'Ball_Number', 'Rolling_Avg_Runs', 'Batsman_Bowler_Combo', 'Strike_Rate']\n",
      "17\n",
      "['Over', 'Batter Runs', 'Extras', 'Cumulative Runs', 'Runs by Batsman', 'Bowler_ID', 'Venue_ID', 'Striker_ID', 'Innings_ID', 'Bowl_style_ID', 'Over_Number', 'Ball_Number', 'Rolling_Avg_Runs', 'Batsman_Bowler_Combo', 'Strike_Rate']\n"
     ]
    }
   ],
   "source": [
    "print(col_int)\n",
    "print(len(col_int))\n",
    "\n",
    "col_int.pop(0)\n",
    "col_int.pop(0)\n",
    "\n",
    "print(col_int)"
   ]
  },
  {
   "cell_type": "code",
   "execution_count": 16,
   "metadata": {},
   "outputs": [
    {
     "name": "stdout",
     "output_type": "stream",
     "text": [
      "Batter Runs             1.000000\n",
      "Runs by Batsman         1.000000\n",
      "Rolling_Avg_Runs        0.477935\n",
      "Strike_Rate             0.416561\n",
      "Cumulative Runs         0.106835\n",
      "Over_Number             0.053181\n",
      "Over                    0.053181\n",
      "Striker_ID              0.016474\n",
      "Innings_ID              0.009735\n",
      "Venue_ID                0.009290\n",
      "Ball_Number             0.000925\n",
      "Bowler_ID               0.000270\n",
      "Batsman_Bowler_Combo   -0.000246\n",
      "Bowl_style_ID          -0.005159\n",
      "Extras                 -0.151217\n",
      "Name: Batter Runs, dtype: float64\n"
     ]
    }
   ],
   "source": [
    "cm = df[col_int].corr()['Batter Runs'].sort_values(ascending=False)\n",
    "print(cm)"
   ]
  },
  {
   "cell_type": "code",
   "execution_count": 17,
   "metadata": {},
   "outputs": [
    {
     "data": {
      "image/png": "[encoded data removed]",
      "text/plain": [
       "<Figure size 1000x600 with 1 Axes>"
      ]
     },
     "metadata": {},
     "output_type": "display_data"
    }
   ],
   "source": [
    "import matplotlib.pyplot as plt\n",
    "import seaborn as sns\n",
    "\n",
    "plt.figure(figsize=(10, 6))\n",
    "sns.barplot(x=cm.index, y=cm.values, hue=cm.index, palette=\"coolwarm\", legend=False)\n",
    "plt.xticks(rotation=90)\n",
    "plt.ylabel(\"Correlation Coefficient\")\n",
    "plt.title(\"Correlation of Features with Batter Runs\")\n",
    "plt.show()"
   ]
  },
  {
   "cell_type": "code",
   "execution_count": 26,
   "metadata": {},
   "outputs": [],
   "source": [
    "import ppscore as pps"
   ]
  },
  {
   "cell_type": "code",
   "execution_count": 31,
   "metadata": {},
   "outputs": [],
   "source": [
    "y = ['Batter Runs']\n",
    "x = [col for col in df.columns if col != 'Batter Runs']"
   ]
  },
  {
   "cell_type": "code",
   "execution_count": 33,
   "metadata": {},
   "outputs": [
    {
     "name": "stdout",
     "output_type": "stream",
     "text": [
      "                 Feature       PPS\n",
      "0             Unnamed: 0  0.000000\n",
      "21      Rolling_Avg_Runs  0.000000\n",
      "20           Ball_Number  0.000000\n",
      "19           Over_Number  0.000000\n",
      "18         Bowl_style_ID  0.000000\n",
      "17            Innings_ID  0.000000\n",
      "16            Striker_ID  0.000000\n",
      "15              Venue_ID  0.000000\n",
      "14             Bowler_ID  0.000000\n",
      "13         Bowling Style  0.000000\n",
      "22  Batsman_Bowler_Combo  0.000000\n",
      "11       Cumulative Runs  0.000000\n",
      "9                 Bowler  0.000000\n",
      "8            Non Striker  0.000000\n",
      "7                Striker  0.000000\n",
      "6                   Over  0.000000\n",
      "5                Innings  0.000000\n",
      "4              Match No.  0.000000\n",
      "3                   Date  0.000000\n",
      "2                  Venue  0.000000\n",
      "1                     ID  0.000000\n",
      "10                Extras  0.000000\n",
      "23           Strike_Rate  0.000000\n",
      "12       Runs by Batsman  0.999823\n"
     ]
    }
   ],
   "source": [
    "pps_scores = {col: pps.score(df, col, 'Batter Runs')[\"ppscore\"] for col in x}\n",
    "pps_df = pd.DataFrame(pps_scores.items(), columns=['Feature', 'PPS'])\n",
    "print(pps_df.sort_values(by=\"PPS\", ascending= True))"
   ]
  },
  {
   "cell_type": "code",
   "execution_count": null,
   "metadata": {},
   "outputs": [],
   "source": []
  }
 ],
 "metadata": {
  "kernelspec": {
   "display_name": "Python 3",
   "language": "python",
   "name": "python3"
  },
  "language_info": {
   "codemirror_mode": {
    "name": "ipython",
    "version": 3
   },
   "file_extension": ".py",
   "mimetype": "text/x-python",
   "name": "python",
   "nbconvert_exporter": "python",
   "pygments_lexer": "ipython3",
   "version": "3.12.2"
  }
 },
 "nbformat": 4,
 "nbformat_minor": 2
}
