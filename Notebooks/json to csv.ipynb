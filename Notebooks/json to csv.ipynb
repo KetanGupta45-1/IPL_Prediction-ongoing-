{
 "cells": [
  {
   "cell_type": "code",
   "execution_count": 5,
   "metadata": {},
   "outputs": [],
   "source": [
    "import os\n",
    "import pandas as pd\n",
    "import json"
   ]
  },
  {
   "cell_type": "code",
   "execution_count": null,
   "metadata": {},
   "outputs": [],
   "source": [
    "json_folder = \"ipl_json\"\n",
    "all_processed_data = []"
   ]
  },
  {
   "cell_type": "code",
   "execution_count": null,
   "metadata": {},
   "outputs": [],
   "source": [
    "for json_file in os.listdir(json_folder):\n",
    "    if json_file.endswith(\".json\"):  # Process only JSON files\n",
    "        file_path = os.path.join(json_folder, json_file)\n",
    "\n",
    "        # Load JSON data\n",
    "        with open(file_path, \"r\") as f:\n",
    "            data = json.load(f)\n",
    "\n",
    "        # Extract venue, date, and match number safely\n",
    "        venue = data[\"info\"].get(\"venue\", \"Unknown Venue\")\n",
    "        date = data[\"info\"][\"dates\"][0] if \"dates\" in data[\"info\"] and data[\"info\"][\"dates\"] else \"Unknown Date\"\n",
    "        match_number = data[\"info\"][\"event\"].get(\"match_number\", \"Unknown Match\") if \"event\" in data[\"info\"] else \"Unknown Match\"\n",
    "\n",
    "        # Loop through innings and deliveries to extract information\n",
    "        for inning in data['innings']:\n",
    "            team = inning['team']\n",
    "            cumulative_runs = 0  # Track cumulative runs for each innings\n",
    "            for over in inning['overs']:\n",
    "                over_number = over['over']\n",
    "                for delivery_number, delivery in enumerate(over['deliveries']):\n",
    "                    striker = delivery['batter']\n",
    "                    non_striker = delivery['non_striker']\n",
    "                    bowler = delivery['bowler']\n",
    "                    runs_batter = delivery['runs']['batter']\n",
    "                    extras = delivery['runs'].get('extras', 0)\n",
    "                    total_runs = delivery['runs']['total']\n",
    "\n",
    "                    # Handling extras if it's a dictionary or an integer\n",
    "                    if isinstance(extras, dict):\n",
    "                        extras_info = {\n",
    "                            'wides': extras.get('wides', 0),\n",
    "                            'noballs': extras.get('noballs', 0),\n",
    "                            'legbyes': extras.get('legbyes', 0)\n",
    "                        }\n",
    "                    else:\n",
    "                        extras_info = {\n",
    "                            'wides': 0,\n",
    "                            'noballs': 0,\n",
    "                            'legbyes': extras\n",
    "                        }\n",
    "\n",
    "                    # Calculate cumulative runs\n",
    "                    cumulative_runs += total_runs\n",
    "\n",
    "                    # Format over as 'over.ball'\n",
    "                    over_ball = f\"{over_number}.{delivery_number+1}\"\n",
    "\n",
    "                    # Append row data to the list\n",
    "                    all_processed_data.append({\n",
    "                        'Venue': venue,\n",
    "                        'Date': date,\n",
    "                        'Match No.': match_number,\n",
    "                        'Innings': team,\n",
    "                        'Over': over_ball,\n",
    "                        'Striker': striker,\n",
    "                        'Non Striker': non_striker,\n",
    "                        'Bowler': bowler,\n",
    "                        'Batter Runs': runs_batter,\n",
    "                        'Extras': str(extras_info),\n",
    "                        'Cumulative Runs': cumulative_runs,\n",
    "                        'Runs by Batsman': runs_batter\n",
    "                    })\n"
   ]
  },
  {
   "cell_type": "code",
   "execution_count": null,
   "metadata": {},
   "outputs": [],
   "source": [
    "df = pd.DataFrame(all_processed_data)"
   ]
  },
  {
   "cell_type": "code",
   "execution_count": null,
   "metadata": {},
   "outputs": [
    {
     "name": "stdout",
     "output_type": "stream",
     "text": [
      "CSV file created successfully: F:/Machine and Deep Learning/Models/Match Data/cricsheet/match_data.csv\n"
     ]
    }
   ],
   "source": [
    "output_csv = \"match_data_full.csv\"\n",
    "df.to_csv(output_csv, index=False)\n",
    "\n",
    "print(f\"CSV file created successfully: {output_csv}\")"
   ]
  }
 ],
 "metadata": {
  "kernelspec": {
   "display_name": "Python 3",
   "language": "python",
   "name": "python3"
  },
  "language_info": {
   "codemirror_mode": {
    "name": "ipython",
    "version": 3
   },
   "file_extension": ".py",
   "mimetype": "text/x-python",
   "name": "python",
   "nbconvert_exporter": "python",
   "pygments_lexer": "ipython3",
   "version": "3.12.2"
  }
 },
 "nbformat": 4,
 "nbformat_minor": 2
}
